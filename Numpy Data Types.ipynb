{
 "cells": [
  {
   "cell_type": "code",
   "execution_count": 1,
   "id": "9220f047",
   "metadata": {},
   "outputs": [],
   "source": [
    "import numpy as np"
   ]
  },
  {
   "cell_type": "code",
   "execution_count": 32,
   "id": "addbfb52",
   "metadata": {},
   "outputs": [
    {
     "data": {
      "text/plain": [
       "array([  1,   2,   3, 127, 126], dtype=int8)"
      ]
     },
     "execution_count": 32,
     "metadata": {},
     "output_type": "execute_result"
    }
   ],
   "source": [
    "np.array([1,2,3,-129,-130], dtype=np.int8)\n",
    "\n",
    "# -128 to +127"
   ]
  },
  {
   "cell_type": "code",
   "execution_count": 105,
   "id": "ad36cc68",
   "metadata": {},
   "outputs": [
    {
     "data": {
      "text/plain": [
       "array([1, 2, 3], dtype=uint8)"
      ]
     },
     "execution_count": 105,
     "metadata": {},
     "output_type": "execute_result"
    }
   ],
   "source": [
    "np.array([1,2,3], dtype='u1')"
   ]
  },
  {
   "cell_type": "code",
   "execution_count": null,
   "id": "77f381b0",
   "metadata": {},
   "outputs": [],
   "source": [
    "-128 to 127\n",
    "\n",
    "-129 -> 127\n",
    "-130 -> 126\n",
    "\n",
    "\n",
    " -128 -127 -126 .. 0 .. 126 127 .. -128 .. 0 .. 126"
   ]
  },
  {
   "cell_type": "code",
   "execution_count": 31,
   "id": "d9b6c663",
   "metadata": {},
   "outputs": [
    {
     "data": {
      "text/plain": [
       "array([  1,   2,   3, 254, 255], dtype=uint8)"
      ]
     },
     "execution_count": 31,
     "metadata": {},
     "output_type": "execute_result"
    }
   ],
   "source": [
    "np.array([1,2,3,-2,255], dtype=np.uint8)\n",
    "\n",
    "# 0 to 255"
   ]
  },
  {
   "cell_type": "code",
   "execution_count": null,
   "id": "31ea4c3b",
   "metadata": {},
   "outputs": [],
   "source": [
    "0 to 255\n",
    "\n",
    "-1 -> 255\n",
    "-2 -> 254\n"
   ]
  },
  {
   "cell_type": "code",
   "execution_count": 64,
   "id": "b5114480",
   "metadata": {},
   "outputs": [
    {
     "name": "stdout",
     "output_type": "stream",
     "text": [
      "[     1      2      4   -500 -32768  32767]\n"
     ]
    },
    {
     "data": {
      "text/plain": [
       "(-32768, 32767)"
      ]
     },
     "execution_count": 64,
     "metadata": {},
     "output_type": "execute_result"
    }
   ],
   "source": [
    "print(np.array([1,2,4,-500, -32768, 32767], dtype=np.int16))\n",
    "\n",
    "# -32768  to - 32767\n",
    "\n",
    "start = - (2**16) // 2 \n",
    "\n",
    "end = (2**16) // 2 - 1\n",
    "\n",
    "start, end"
   ]
  },
  {
   "cell_type": "code",
   "execution_count": 65,
   "id": "0d5f3421",
   "metadata": {},
   "outputs": [
    {
     "name": "stdout",
     "output_type": "stream",
     "text": [
      "[    1     2     4 65036   500     0     0]\n"
     ]
    },
    {
     "data": {
      "text/plain": [
       "(0, 65536)"
      ]
     },
     "execution_count": 65,
     "metadata": {},
     "output_type": "execute_result"
    }
   ],
   "source": [
    "print(np.array([1,2,4,-500, 500, 0, 65536], dtype=np.uint16))\n",
    "\n",
    "# 0 to 65536\n",
    "# 2 ** 16\n",
    "\n",
    "start = 0\n",
    "end = 2**16\n",
    "\n",
    "start, end"
   ]
  },
  {
   "cell_type": "code",
   "execution_count": 76,
   "id": "7c512316",
   "metadata": {},
   "outputs": [
    {
     "data": {
      "text/plain": [
       "array([         1,          5,          8,          7, 2147483647])"
      ]
     },
     "execution_count": 76,
     "metadata": {},
     "output_type": "execute_result"
    }
   ],
   "source": [
    "np.array([1,5,8,7, 2147483647], dtype=np.int32)"
   ]
  },
  {
   "cell_type": "code",
   "execution_count": 68,
   "id": "c73ce6ea",
   "metadata": {},
   "outputs": [
    {
     "data": {
      "text/plain": [
       "(-2147483648, 2147483647)"
      ]
     },
     "execution_count": 68,
     "metadata": {},
     "output_type": "execute_result"
    }
   ],
   "source": [
    "start = - (2**32) // 2 \n",
    "\n",
    "end = (2**32) // 2 - 1\n",
    "\n",
    "start, end"
   ]
  },
  {
   "cell_type": "code",
   "execution_count": 81,
   "id": "06a3e0e2",
   "metadata": {},
   "outputs": [
    {
     "data": {
      "text/plain": [
       "array([         1,          5,          8,          0, 2147483648],\n",
       "      dtype=uint32)"
      ]
     },
     "execution_count": 81,
     "metadata": {},
     "output_type": "execute_result"
    }
   ],
   "source": [
    "np.array([1,5,8,0, 2147483648], dtype=np.uint32)"
   ]
  },
  {
   "cell_type": "code",
   "execution_count": 79,
   "id": "c492f717",
   "metadata": {},
   "outputs": [
    {
     "data": {
      "text/plain": [
       "(0, 4294967296)"
      ]
     },
     "execution_count": 79,
     "metadata": {},
     "output_type": "execute_result"
    }
   ],
   "source": [
    "start = 0\n",
    "end = 2**32\n",
    "\n",
    "start, end"
   ]
  },
  {
   "cell_type": "code",
   "execution_count": 83,
   "id": "e6794314",
   "metadata": {},
   "outputs": [
    {
     "data": {
      "text/plain": [
       "array([         1,          5,          8,          0, 2147483648],\n",
       "      dtype=int64)"
      ]
     },
     "execution_count": 83,
     "metadata": {},
     "output_type": "execute_result"
    }
   ],
   "source": [
    "np.array([1,5,8,0, 2147483648], dtype=np.int64)"
   ]
  },
  {
   "cell_type": "code",
   "execution_count": 85,
   "id": "2cb4963c",
   "metadata": {},
   "outputs": [
    {
     "data": {
      "text/plain": [
       "array([         1,          5,          2,          0, 2147483648],\n",
       "      dtype=uint64)"
      ]
     },
     "execution_count": 85,
     "metadata": {},
     "output_type": "execute_result"
    }
   ],
   "source": [
    "np.array([1,5,2,0, 2147483648], dtype=np.uint64)"
   ]
  },
  {
   "cell_type": "code",
   "execution_count": 86,
   "id": "ef285576",
   "metadata": {},
   "outputs": [
    {
     "data": {
      "text/plain": [
       "array([1.1, 5.1, 8. , 0. , inf], dtype=float16)"
      ]
     },
     "execution_count": 86,
     "metadata": {},
     "output_type": "execute_result"
    }
   ],
   "source": [
    "np.array([1.1,5.1,8,0, 2147483648], dtype=np.float16)"
   ]
  },
  {
   "cell_type": "code",
   "execution_count": 88,
   "id": "69b3cc80",
   "metadata": {},
   "outputs": [
    {
     "data": {
      "text/plain": [
       "array([ 1.1000000e+00,  5.0999999e+00, -8.0000000e+00,  0.0000000e+00,\n",
       "        2.1474836e+09], dtype=float32)"
      ]
     },
     "execution_count": 88,
     "metadata": {},
     "output_type": "execute_result"
    }
   ],
   "source": [
    "np.array([1.1,5.1,-8,0, 2147483648], dtype=np.float32)"
   ]
  },
  {
   "cell_type": "code",
   "execution_count": 89,
   "id": "27786b04",
   "metadata": {},
   "outputs": [
    {
     "data": {
      "text/plain": [
       "array([ 1.10000000e+00,  5.10000000e+00, -8.00000000e+00,  0.00000000e+00,\n",
       "        2.14748365e+09])"
      ]
     },
     "execution_count": 89,
     "metadata": {},
     "output_type": "execute_result"
    }
   ],
   "source": [
    "np.array([1.1,5.1,-8,0, 2147483648], dtype=np.float64)"
   ]
  },
  {
   "cell_type": "code",
   "execution_count": 91,
   "id": "090fe18f",
   "metadata": {},
   "outputs": [
    {
     "data": {
      "text/plain": [
       "array([1.1+0.j , 0. +5.1j], dtype=complex64)"
      ]
     },
     "execution_count": 91,
     "metadata": {},
     "output_type": "execute_result"
    }
   ],
   "source": [
    "np.array([1.1,5.1j], dtype=np.complex64)"
   ]
  },
  {
   "cell_type": "code",
   "execution_count": 92,
   "id": "5f29434e",
   "metadata": {},
   "outputs": [
    {
     "data": {
      "text/plain": [
       "array([1.1+0.j , 0. +5.1j])"
      ]
     },
     "execution_count": 92,
     "metadata": {},
     "output_type": "execute_result"
    }
   ],
   "source": [
    "np.array([1.1,5.1j], dtype=np.complex128)"
   ]
  },
  {
   "cell_type": "code",
   "execution_count": 94,
   "id": "801df864",
   "metadata": {},
   "outputs": [
    {
     "data": {
      "text/plain": [
       "array([ True,  True, False])"
      ]
     },
     "execution_count": 94,
     "metadata": {},
     "output_type": "execute_result"
    }
   ],
   "source": [
    "np.array([True, True, False], dtype=np.bool_)"
   ]
  },
  {
   "cell_type": "code",
   "execution_count": 97,
   "id": "220640a3",
   "metadata": {},
   "outputs": [
    {
     "data": {
      "text/plain": [
       "array([<class 'list'>, <class 'tuple'>, <class 'dict'>,\n",
       "       <class 'Exception'>, <class 'object'>], dtype=object)"
      ]
     },
     "execution_count": 97,
     "metadata": {},
     "output_type": "execute_result"
    }
   ],
   "source": [
    "np.array([list, tuple, dict, Exception, object], dtype=np.object_)"
   ]
  },
  {
   "cell_type": "code",
   "execution_count": 100,
   "id": "79635f10",
   "metadata": {},
   "outputs": [
    {
     "data": {
      "text/plain": [
       "array([b'abc', b'defp'], dtype='|S4')"
      ]
     },
     "execution_count": 100,
     "metadata": {},
     "output_type": "execute_result"
    }
   ],
   "source": [
    "np.array(['abc', 'defp'], dtype=np.string_)"
   ]
  },
  {
   "cell_type": "code",
   "execution_count": 103,
   "id": "33d8c317",
   "metadata": {},
   "outputs": [
    {
     "data": {
      "text/plain": [
       "array(['₹'], dtype='<U1')"
      ]
     },
     "execution_count": 103,
     "metadata": {},
     "output_type": "execute_result"
    }
   ],
   "source": [
    "np.array(['₹'], dtype=np.unicode_)"
   ]
  },
  {
   "cell_type": "code",
   "execution_count": null,
   "id": "2b4e8001",
   "metadata": {},
   "outputs": [],
   "source": []
  },
  {
   "cell_type": "code",
   "execution_count": null,
   "id": "dcf97ae6",
   "metadata": {},
   "outputs": [],
   "source": []
  },
  {
   "cell_type": "code",
   "execution_count": null,
   "id": "d65e91a8",
   "metadata": {},
   "outputs": [],
   "source": []
  },
  {
   "cell_type": "code",
   "execution_count": null,
   "id": "92e8c2d7",
   "metadata": {},
   "outputs": [],
   "source": []
  },
  {
   "cell_type": "code",
   "execution_count": null,
   "id": "14780579",
   "metadata": {},
   "outputs": [],
   "source": []
  }
 ],
 "metadata": {
  "kernelspec": {
   "display_name": "Python 3 (ipykernel)",
   "language": "python",
   "name": "python3"
  },
  "language_info": {
   "codemirror_mode": {
    "name": "ipython",
    "version": 3
   },
   "file_extension": ".py",
   "mimetype": "text/x-python",
   "name": "python",
   "nbconvert_exporter": "python",
   "pygments_lexer": "ipython3",
   "version": "3.9.12"
  }
 },
 "nbformat": 4,
 "nbformat_minor": 5
}
