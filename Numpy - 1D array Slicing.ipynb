{
 "cells": [
  {
   "cell_type": "code",
   "execution_count": 1,
   "id": "aef4826c",
   "metadata": {},
   "outputs": [],
   "source": [
    "import numpy as np"
   ]
  },
  {
   "cell_type": "code",
   "execution_count": 38,
   "id": "7648fd7b",
   "metadata": {},
   "outputs": [],
   "source": [
    "l = [1,5,8,13]"
   ]
  },
  {
   "cell_type": "code",
   "execution_count": 39,
   "id": "a27d7fe6",
   "metadata": {},
   "outputs": [
    {
     "data": {
      "text/plain": [
       "array([ 1,  5,  8, 13], dtype=int16)"
      ]
     },
     "execution_count": 39,
     "metadata": {},
     "output_type": "execute_result"
    }
   ],
   "source": [
    "arr1d = np.array(l, dtype=np.int16)\n",
    "arr1d"
   ]
  },
  {
   "cell_type": "code",
   "execution_count": null,
   "id": "cf16a1c5",
   "metadata": {},
   "outputs": [],
   "source": [
    "[ 1,  5,  8, 13] \n",
    "  0   1   2   3\n"
   ]
  },
  {
   "cell_type": "code",
   "execution_count": 6,
   "id": "e6d84300",
   "metadata": {},
   "outputs": [
    {
     "data": {
      "text/plain": [
       "1"
      ]
     },
     "execution_count": 6,
     "metadata": {},
     "output_type": "execute_result"
    }
   ],
   "source": [
    "arr1d[0]"
   ]
  },
  {
   "cell_type": "code",
   "execution_count": 7,
   "id": "a40f6e01",
   "metadata": {},
   "outputs": [
    {
     "data": {
      "text/plain": [
       "13"
      ]
     },
     "execution_count": 7,
     "metadata": {},
     "output_type": "execute_result"
    }
   ],
   "source": [
    "arr1d[3]"
   ]
  },
  {
   "cell_type": "code",
   "execution_count": 8,
   "id": "8bb24839",
   "metadata": {},
   "outputs": [
    {
     "ename": "IndexError",
     "evalue": "index 5 is out of bounds for axis 0 with size 4",
     "output_type": "error",
     "traceback": [
      "\u001b[1;31m---------------------------------------------------------------------------\u001b[0m",
      "\u001b[1;31mIndexError\u001b[0m                                Traceback (most recent call last)",
      "Input \u001b[1;32mIn [8]\u001b[0m, in \u001b[0;36m<cell line: 1>\u001b[1;34m()\u001b[0m\n\u001b[1;32m----> 1\u001b[0m \u001b[43marr1d\u001b[49m\u001b[43m[\u001b[49m\u001b[38;5;241;43m5\u001b[39;49m\u001b[43m]\u001b[49m\n",
      "\u001b[1;31mIndexError\u001b[0m: index 5 is out of bounds for axis 0 with size 4"
     ]
    }
   ],
   "source": [
    "arr1d[5]"
   ]
  },
  {
   "cell_type": "code",
   "execution_count": 9,
   "id": "4975df75",
   "metadata": {},
   "outputs": [
    {
     "data": {
      "text/plain": [
       "array([ 1,  5,  8, 13], dtype=int16)"
      ]
     },
     "execution_count": 9,
     "metadata": {},
     "output_type": "execute_result"
    }
   ],
   "source": [
    "arr1d"
   ]
  },
  {
   "cell_type": "code",
   "execution_count": 10,
   "id": "7e0b2c73",
   "metadata": {},
   "outputs": [
    {
     "name": "stdout",
     "output_type": "stream",
     "text": [
      "Original Array [ 1  5  8 13]\n",
      "Changed Array [ 1 12  8 13]\n"
     ]
    }
   ],
   "source": [
    "print(\"Original Array\", arr1d)\n",
    "\n",
    "arr1d[1] = 12\n",
    "\n",
    "print(\"Changed Array\", arr1d)"
   ]
  },
  {
   "cell_type": "code",
   "execution_count": 11,
   "id": "4b07c122",
   "metadata": {},
   "outputs": [
    {
     "name": "stdout",
     "output_type": "stream",
     "text": [
      "Original Array [ 1 12  8 13]\n",
      "Changed Array [  1  12 109  13]\n"
     ]
    }
   ],
   "source": [
    "print(\"Original Array\", arr1d)\n",
    "\n",
    "arr1d[2] = 109\n",
    "\n",
    "print(\"Changed Array\", arr1d)"
   ]
  },
  {
   "cell_type": "code",
   "execution_count": null,
   "id": "436058df",
   "metadata": {},
   "outputs": [],
   "source": [
    "print(\"Original Array\", arr1d)\n",
    "\n",
    "slice_array = arr1d[]"
   ]
  },
  {
   "cell_type": "code",
   "execution_count": 13,
   "id": "09f95632",
   "metadata": {},
   "outputs": [
    {
     "data": {
      "text/plain": [
       "array([  1,  12, 109,  13], dtype=int16)"
      ]
     },
     "execution_count": 13,
     "metadata": {},
     "output_type": "execute_result"
    }
   ],
   "source": [
    "arr1d"
   ]
  },
  {
   "cell_type": "code",
   "execution_count": 16,
   "id": "42342083",
   "metadata": {},
   "outputs": [
    {
     "data": {
      "text/plain": [
       "array([ 12, 109], dtype=int16)"
      ]
     },
     "execution_count": 16,
     "metadata": {},
     "output_type": "execute_result"
    }
   ],
   "source": [
    "arr1d[1:3]"
   ]
  },
  {
   "cell_type": "code",
   "execution_count": 17,
   "id": "be70439e",
   "metadata": {},
   "outputs": [
    {
     "data": {
      "text/plain": [
       "array([  1,  12, 109], dtype=int16)"
      ]
     },
     "execution_count": 17,
     "metadata": {},
     "output_type": "execute_result"
    }
   ],
   "source": [
    "arr1d[0:3]"
   ]
  },
  {
   "cell_type": "code",
   "execution_count": 18,
   "id": "9973ff3b",
   "metadata": {},
   "outputs": [
    {
     "data": {
      "text/plain": [
       "array([  1,  12, 109], dtype=int16)"
      ]
     },
     "execution_count": 18,
     "metadata": {},
     "output_type": "execute_result"
    }
   ],
   "source": [
    "arr1d[:3]"
   ]
  },
  {
   "cell_type": "code",
   "execution_count": 19,
   "id": "46cd320d",
   "metadata": {},
   "outputs": [
    {
     "data": {
      "text/plain": [
       "array([109,  13], dtype=int16)"
      ]
     },
     "execution_count": 19,
     "metadata": {},
     "output_type": "execute_result"
    }
   ],
   "source": [
    "arr1d[2:]"
   ]
  },
  {
   "cell_type": "code",
   "execution_count": 20,
   "id": "cad7bc88",
   "metadata": {},
   "outputs": [
    {
     "data": {
      "text/plain": [
       "array([  1,  12, 109,  13], dtype=int16)"
      ]
     },
     "execution_count": 20,
     "metadata": {},
     "output_type": "execute_result"
    }
   ],
   "source": [
    "arr1d"
   ]
  },
  {
   "cell_type": "code",
   "execution_count": 21,
   "id": "3f769bf5",
   "metadata": {},
   "outputs": [
    {
     "data": {
      "text/plain": [
       "13"
      ]
     },
     "execution_count": 21,
     "metadata": {},
     "output_type": "execute_result"
    }
   ],
   "source": [
    "arr1d[-1]"
   ]
  },
  {
   "cell_type": "code",
   "execution_count": 22,
   "id": "614e5c79",
   "metadata": {},
   "outputs": [
    {
     "data": {
      "text/plain": [
       "1"
      ]
     },
     "execution_count": 22,
     "metadata": {},
     "output_type": "execute_result"
    }
   ],
   "source": [
    "arr1d[-4]"
   ]
  },
  {
   "cell_type": "code",
   "execution_count": 26,
   "id": "9f8299ce",
   "metadata": {},
   "outputs": [
    {
     "data": {
      "text/plain": [
       "array([  1,  12, 109,  13], dtype=int16)"
      ]
     },
     "execution_count": 26,
     "metadata": {},
     "output_type": "execute_result"
    }
   ],
   "source": [
    "arr1d"
   ]
  },
  {
   "cell_type": "code",
   "execution_count": 27,
   "id": "b4d3cda5",
   "metadata": {},
   "outputs": [
    {
     "data": {
      "text/plain": [
       "array([ 1, 12], dtype=int16)"
      ]
     },
     "execution_count": 27,
     "metadata": {},
     "output_type": "execute_result"
    }
   ],
   "source": [
    "arr1d[0:2]"
   ]
  },
  {
   "cell_type": "code",
   "execution_count": 28,
   "id": "fd91b741",
   "metadata": {},
   "outputs": [],
   "source": [
    "arr1d[0:2] = 55"
   ]
  },
  {
   "cell_type": "code",
   "execution_count": 29,
   "id": "d94cd530",
   "metadata": {},
   "outputs": [
    {
     "data": {
      "text/plain": [
       "array([ 55,  55, 109,  13], dtype=int16)"
      ]
     },
     "execution_count": 29,
     "metadata": {},
     "output_type": "execute_result"
    }
   ],
   "source": [
    "arr1d"
   ]
  },
  {
   "cell_type": "code",
   "execution_count": 30,
   "id": "96f40e8f",
   "metadata": {},
   "outputs": [
    {
     "data": {
      "text/plain": [
       "array([109,  13], dtype=int16)"
      ]
     },
     "execution_count": 30,
     "metadata": {},
     "output_type": "execute_result"
    }
   ],
   "source": [
    "arr1d[2:]"
   ]
  },
  {
   "cell_type": "code",
   "execution_count": 45,
   "id": "8384cdc9",
   "metadata": {},
   "outputs": [
    {
     "data": {
      "text/plain": [
       "array([ 1,  5,  8, 13], dtype=int16)"
      ]
     },
     "execution_count": 45,
     "metadata": {},
     "output_type": "execute_result"
    }
   ],
   "source": [
    "l = [1,5,8,13]\n",
    "\n",
    "arr1d = np.array(l, dtype=np.int16)\n",
    "arr1d"
   ]
  },
  {
   "cell_type": "code",
   "execution_count": 46,
   "id": "92f6049d",
   "metadata": {},
   "outputs": [],
   "source": [
    "test_arr1 = arr1d\n",
    "test_arr2 = arr1d.copy()"
   ]
  },
  {
   "cell_type": "code",
   "execution_count": 47,
   "id": "08621aad",
   "metadata": {},
   "outputs": [
    {
     "data": {
      "text/plain": [
       "array([ 1,  5,  8, 13], dtype=int16)"
      ]
     },
     "execution_count": 47,
     "metadata": {},
     "output_type": "execute_result"
    }
   ],
   "source": [
    "test_arr1"
   ]
  },
  {
   "cell_type": "code",
   "execution_count": 48,
   "id": "9870b751",
   "metadata": {},
   "outputs": [
    {
     "data": {
      "text/plain": [
       "array([ 1,  5,  8, 13], dtype=int16)"
      ]
     },
     "execution_count": 48,
     "metadata": {},
     "output_type": "execute_result"
    }
   ],
   "source": [
    "test_arr2"
   ]
  },
  {
   "cell_type": "code",
   "execution_count": 49,
   "id": "60e08859",
   "metadata": {},
   "outputs": [
    {
     "name": "stdout",
     "output_type": "stream",
     "text": [
      "Test array 1 [85 85  8 13]\n",
      "Original array [85 85  8 13]\n"
     ]
    }
   ],
   "source": [
    "test_arr1[:2] = 85\n",
    "\n",
    "print('Test array 1', test_arr1)\n",
    "print('Original array', arr1d)"
   ]
  },
  {
   "cell_type": "code",
   "execution_count": 52,
   "id": "8f3fdf24",
   "metadata": {},
   "outputs": [
    {
     "name": "stdout",
     "output_type": "stream",
     "text": [
      "Test array 2 [99 99  8 13]\n",
      "Original array [85 85  8 13]\n"
     ]
    }
   ],
   "source": [
    "test_arr2[:2] = 99\n",
    "\n",
    "print('Test array 2', test_arr2)\n",
    "print('Original array', arr1d)"
   ]
  },
  {
   "cell_type": "code",
   "execution_count": null,
   "id": "307040a4",
   "metadata": {},
   "outputs": [],
   "source": []
  },
  {
   "cell_type": "code",
   "execution_count": null,
   "id": "d9d447b6",
   "metadata": {},
   "outputs": [],
   "source": []
  },
  {
   "cell_type": "code",
   "execution_count": null,
   "id": "c2616c61",
   "metadata": {},
   "outputs": [],
   "source": []
  },
  {
   "cell_type": "code",
   "execution_count": null,
   "id": "5b0a3354",
   "metadata": {},
   "outputs": [],
   "source": []
  },
  {
   "cell_type": "code",
   "execution_count": null,
   "id": "3517934f",
   "metadata": {},
   "outputs": [],
   "source": []
  },
  {
   "cell_type": "code",
   "execution_count": null,
   "id": "d364379b",
   "metadata": {},
   "outputs": [],
   "source": []
  },
  {
   "cell_type": "code",
   "execution_count": null,
   "id": "2325d6db",
   "metadata": {},
   "outputs": [],
   "source": []
  },
  {
   "cell_type": "code",
   "execution_count": null,
   "id": "25c402a8",
   "metadata": {},
   "outputs": [],
   "source": []
  },
  {
   "cell_type": "code",
   "execution_count": null,
   "id": "fe1bad73",
   "metadata": {},
   "outputs": [],
   "source": []
  },
  {
   "cell_type": "code",
   "execution_count": null,
   "id": "8b172860",
   "metadata": {},
   "outputs": [],
   "source": []
  },
  {
   "cell_type": "code",
   "execution_count": null,
   "id": "02fa51ae",
   "metadata": {},
   "outputs": [],
   "source": []
  }
 ],
 "metadata": {
  "kernelspec": {
   "display_name": "Python 3 (ipykernel)",
   "language": "python",
   "name": "python3"
  },
  "language_info": {
   "codemirror_mode": {
    "name": "ipython",
    "version": 3
   },
   "file_extension": ".py",
   "mimetype": "text/x-python",
   "name": "python",
   "nbconvert_exporter": "python",
   "pygments_lexer": "ipython3",
   "version": "3.9.12"
  }
 },
 "nbformat": 4,
 "nbformat_minor": 5
}
